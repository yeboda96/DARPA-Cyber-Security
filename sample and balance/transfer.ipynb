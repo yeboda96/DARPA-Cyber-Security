{
 "cells": [
  {
   "cell_type": "code",
   "execution_count": 1,
   "metadata": {},
   "outputs": [],
   "source": [
    "import pandas as pd\n",
    "from datetime import datetime, timedelta\n",
    "import numpy as np\n",
    "import math\n",
    "import gensim\n",
    "from gensim.models import Word2Vec \n",
    "import time"
   ]
  },
  {
   "cell_type": "code",
   "execution_count": 2,
   "metadata": {},
   "outputs": [],
   "source": [
    "def transfer(df, mode='train'):\n",
    "    \n",
    "    print('run ports to categories')\n",
    "    #step 2: convert port number into 3 categories\n",
    "    common_port = [20,21,22,23,25,53,80,110,143,179,389,443,636,990,1433,8080]\n",
    "    df.dest_port = [-x if x in common_port else x for x in df['dest_port']]\n",
    "    \n",
    "    df.dest_port = [-1 if -1<int(x)<1024 else -2 if 1023<int(x)<49151 else -3 if int(x) >49151 else x for x in df['dest_port']]\n",
    "    df = pd.get_dummies(df, columns = ['dest_port'], drop_first=True)\n",
    "    \n",
    "    \n",
    "    \n",
    "    #step 3: location transform\n",
    "    common_country = ['US', 'China', 'Russia', 'Netherlands', 'Bulgaria', 'Ukraine', 'United Kingdom', 'Japan', 'Canada', 'Iceland', 'France', 'Seychelles']\n",
    "    df['location'] = [str(x) if str(x) in common_country else 'other' for x in df.location]\n",
    "    df = pd.get_dummies(df, columns = ['location'], drop_first=True)\n",
    "    \n",
    "    \n",
    "    #step 4: unigram\n",
    "    history_string = 'shadfrctwiq^SHADFRCTWIQ'\n",
    "    res = []\n",
    "    for i in history_string:\n",
    "        res.append([])\n",
    "    \n",
    "    for history in df.history:\n",
    "        for i in range(len(history_string)):\n",
    "            res[i].append(history.count(history_string[i]))\n",
    "    \n",
    "    for i in range(len(history_string)):\n",
    "        df[history_string[i]] = res[i]\n",
    "        \n",
    "    \n",
    "    #step 5: get dummy conn state\n",
    "    df = pd.get_dummies(df, columns=['conn_state'], drop_first=True)\n",
    "    \n",
    "    \n",
    "    #step 6: replace missing value by 0\n",
    "    df = df.replace('-', -1.0)\n",
    "    \n",
    "    \n",
    "    print('run ts into hour')\n",
    "    #step 7: convert ts into hour\n",
    "    xhr, yhr = [], []\n",
    "\n",
    "    for i in df.ts:\n",
    "        temp = (datetime.fromtimestamp(i) - timedelta(hours=-5)).strftime('%Y-%m-%d %H:%M:%S')[11:13]\n",
    "        xhr.append(np.sin(2*math.pi*int(temp)/24))\n",
    "        yhr.append(np.cos(2*math.pi*int(temp)/24))\n",
    "\n",
    "    df['xhr'] = xhr\n",
    "    df['yhr'] = yhr\n",
    "\n",
    "    \n",
    "    #step 8: log transformation\n",
    "    df['duration'] = pd.to_numeric(df['duration'])\n",
    "    df['src_bytes'] = pd.to_numeric(df['src_bytes'])\n",
    "    df['dest_bytes'] = pd.to_numeric(df['dest_bytes'])\n",
    "    df['src_pkts'] = pd.to_numeric(df['src_pkts'])\n",
    "    df['dest_pkts'] = pd.to_numeric(df['dest_pkts'])\n",
    "    df['duration'] = np.log(1.1 + df['duration'])\n",
    "    df['src_bytes'] = np.log(1.1 + df['src_bytes'])\n",
    "    df['dest_bytes'] = np.log(1.1 + df['dest_bytes'])\n",
    "    df['src_pkts'] = np.log(1.1 + df['src_pkts'])\n",
    "    df['dest_pkts'] = np.log(1.1 + df['dest_pkts'])\n",
    "    \n",
    "    \n",
    "    return df.drop(['ts','history','src_ip'], axis = 1)"
   ]
  },
  {
   "cell_type": "code",
   "execution_count": 3,
   "metadata": {},
   "outputs": [
    {
     "data": {
      "text/plain": [
       "'\\nstart_time = time.time()\\ndf = pd.read_csv(\\'/scratch/by8jj/sample files/Bal_train/all_train.csv\\')\\ndf = transfer(df, \\'train\\')\\ndf.to_csv(\\'/scratch/by8jj/stratified samples/test of test/train/all_train.csv\\', index = False)\\nprint(\"--- %s seconds ---\" % (time.time() - start_time))\\n'"
      ]
     },
     "execution_count": 3,
     "metadata": {},
     "output_type": "execute_result"
    }
   ],
   "source": [
    "'''\n",
    "start_time = time.time()\n",
    "df = pd.read_csv('/scratch/by8jj/sample files/Bal_train/all_train.csv')\n",
    "df = transfer(df, 'train')\n",
    "df.to_csv('/scratch/by8jj/stratified samples/test of test/train/all_train.csv', index = False)\n",
    "print(\"--- %s seconds ---\" % (time.time() - start_time))\n",
    "'''"
   ]
  },
  {
   "cell_type": "code",
   "execution_count": 4,
   "metadata": {},
   "outputs": [],
   "source": [
    "inputPath = '/scratch/by8jj/sample files/Bal_test/test_'"
   ]
  },
  {
   "cell_type": "code",
   "execution_count": 5,
   "metadata": {},
   "outputs": [
    {
     "name": "stdout",
     "output_type": "stream",
     "text": [
      "run ports to categories\n",
      "run ts into hour\n",
      "--- 121.11493420600891 seconds ---\n",
      "run ports to categories\n",
      "run ts into hour\n",
      "--- 125.71537661552429 seconds ---\n",
      "run ports to categories\n",
      "run ts into hour\n",
      "--- 202.89757418632507 seconds ---\n",
      "run ports to categories\n",
      "run ts into hour\n",
      "--- 194.76542043685913 seconds ---\n",
      "run ports to categories\n",
      "run ts into hour\n",
      "--- 183.0406801700592 seconds ---\n",
      "run ports to categories\n",
      "run ts into hour\n",
      "--- 210.969464302063 seconds ---\n",
      "run ports to categories\n",
      "run ts into hour\n",
      "--- 204.9678819179535 seconds ---\n",
      "run ports to categories\n",
      "run ts into hour\n",
      "--- 118.51590728759766 seconds ---\n",
      "run ports to categories\n",
      "run ts into hour\n",
      "--- 115.49377059936523 seconds ---\n",
      "run ports to categories\n",
      "run ts into hour\n",
      "--- 149.64178323745728 seconds ---\n",
      "run ports to categories\n",
      "run ts into hour\n",
      "--- 200.06779861450195 seconds ---\n"
     ]
    }
   ],
   "source": [
    "for i in range(12, 23):\n",
    "    start_time = time.time()\n",
    "    df = pd.read_csv(inputPath + str(i) + '.csv')\n",
    "    df = transfer(df, 'test')\n",
    "    df.to_csv('/scratch/by8jj/stratified samples/test of test/test/test_' + str(i) + '.csv', index = False)\n",
    "    print(\"--- %s seconds ---\" % (time.time() - start_time))"
   ]
  }
 ],
 "metadata": {
  "kernelspec": {
   "display_name": "Python 3",
   "language": "python",
   "name": "python3"
  },
  "language_info": {
   "codemirror_mode": {
    "name": "ipython",
    "version": 3
   },
   "file_extension": ".py",
   "mimetype": "text/x-python",
   "name": "python",
   "nbconvert_exporter": "python",
   "pygments_lexer": "ipython3",
   "version": "3.6.6"
  }
 },
 "nbformat": 4,
 "nbformat_minor": 2
}
