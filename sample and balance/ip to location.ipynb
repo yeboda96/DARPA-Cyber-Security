{
 "cells": [
  {
   "cell_type": "code",
   "execution_count": 1,
   "metadata": {},
   "outputs": [],
   "source": [
    "import pandas as pd\n",
    "from geolite2 import geolite2\n",
    "import time"
   ]
  },
  {
   "cell_type": "code",
   "execution_count": 2,
   "metadata": {},
   "outputs": [],
   "source": [
    "def find_location(df):\n",
    "\n",
    "    country = []\n",
    "\n",
    "    reader= geolite2.reader()\n",
    "\n",
    "    start_time = time.time()\n",
    "\n",
    "    for i in df.src_ip:\n",
    "\n",
    "        try:\n",
    "            temp = reader.get(i)\n",
    "            country_temp = temp['country']['names']['en']\n",
    "\n",
    "            if country_temp == 'United States':\n",
    "\n",
    "\n",
    "                try:\n",
    "                    country_temp += ' '\n",
    "                    country_temp +=temp['subdivisions'][0]['iso_code']\n",
    "                except:\n",
    "                    pass\n",
    "\n",
    "            country.append(country_temp)\n",
    "\n",
    "        except:\n",
    "            country.append('NA')\n",
    "    \n",
    "    print('time is %s'%(time.time() - start_time))\n",
    "    return country\n",
    "    \n"
   ]
  },
  {
   "cell_type": "code",
   "execution_count": 3,
   "metadata": {},
   "outputs": [],
   "source": [
    "path = '/scratch/by8jj/sample files/'"
   ]
  },
  {
   "cell_type": "code",
   "execution_count": 4,
   "metadata": {},
   "outputs": [
    {
     "name": "stdout",
     "output_type": "stream",
     "text": [
      "time is 1429.667117357254\n",
      "time is 1757.0120463371277\n",
      "time is 2140.459070920944\n",
      "time is 2200.5539219379425\n",
      "time is 2161.6265761852264\n",
      "time is 1608.8869388103485\n"
     ]
    }
   ],
   "source": [
    "for i in range(11, 23, 2):\n",
    "    inputFile = '%strain/merged_%s.csv'%(path, i)\n",
    "    df = pd.read_csv(inputFile).drop(['src_port', 'dest_ip', 'src_ip_ext', 'blacklist', 'whitelist','honeypot'], axis = 1)\n",
    "    df['location'] = find_location(df)\n",
    "    df.to_csv('%sloc_train/train_%s.csv'%(path, i), index = False)"
   ]
  }
 ],
 "metadata": {
  "kernelspec": {
   "display_name": "Python 3",
   "language": "python",
   "name": "python3"
  },
  "language_info": {
   "codemirror_mode": {
    "name": "ipython",
    "version": 3
   },
   "file_extension": ".py",
   "mimetype": "text/x-python",
   "name": "python",
   "nbconvert_exporter": "python",
   "pygments_lexer": "ipython3",
   "version": "3.6.6"
  }
 },
 "nbformat": 4,
 "nbformat_minor": 2
}
