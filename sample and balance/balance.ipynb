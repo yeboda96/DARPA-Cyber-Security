{
 "cells": [
  {
   "cell_type": "code",
   "execution_count": 1,
   "metadata": {},
   "outputs": [],
   "source": [
    "import pandas as pd"
   ]
  },
  {
   "cell_type": "code",
   "execution_count": 2,
   "metadata": {},
   "outputs": [],
   "source": [
    "path = '/scratch/by8jj/sample files/'"
   ]
  },
  {
   "cell_type": "code",
   "execution_count": null,
   "metadata": {},
   "outputs": [],
   "source": [
    "mode = 'train'\n",
    "\n",
    "for i in range(11, 22):\n",
    "    df = pd.read_csv('%sloc_train/train_%s.csv'%(path, i))\n",
    "    \n",
    "    if mode == 'train':\n",
    "        \n",
    "        df_other_mal = df.loc[(df['location']!='US') & (df['label'] == 1)].sample(frac = 0.2)\n",
    "        df_US_mal = df.loc[(df['location']=='US') & (df['label'] == 1)]\n",
    "        df_other_benign = df.loc[(df['location']!='US') & (df['label'] == 0)]\n",
    "        df_US_benign = df.loc[(df['location']=='US') & (df['label'] == 0)]\n",
    "        df_bal = pd.concat([df_US_mal, df_other_mal, df_US_benign, df_other_benign]).sample(frac = 1)\n",
    "        df = df_bal\n",
    "        \n",
    "    else:\n",
    "        \n",
    "        df_benign = df[df['label'] == 0]\n",
    "        df_mal = df[df['label'] == 1].sample(frac = 1)[:len(df_benign)//20]\n",
    "        df_bal = pd.concat([df_benign, df_mal]).sample(frac = 1)\n",
    "        df = df_bal\n",
    "        \n",
    "        \n",
    "    df_bal.to_csv('%sBal_train/train_%d.csv'%(path, i) , index = False)\n",
    "    "
   ]
  }
 ],
 "metadata": {
  "kernelspec": {
   "display_name": "Python 3",
   "language": "python",
   "name": "python3"
  },
  "language_info": {
   "codemirror_mode": {
    "name": "ipython",
    "version": 3
   },
   "file_extension": ".py",
   "mimetype": "text/x-python",
   "name": "python",
   "nbconvert_exporter": "python",
   "pygments_lexer": "ipython3",
   "version": "3.6.6"
  }
 },
 "nbformat": 4,
 "nbformat_minor": 2
}
