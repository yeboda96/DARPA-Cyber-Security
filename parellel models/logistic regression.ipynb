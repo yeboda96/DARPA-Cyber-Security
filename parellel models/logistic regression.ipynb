{
 "cells": [
  {
   "cell_type": "code",
   "execution_count": 9,
   "metadata": {},
   "outputs": [],
   "source": [
    "from sklearn.metrics import confusion_matrix\n",
    "import pandas as pd\n",
    "import numpy as np\n",
    "import sklearn\n",
    "from sklearn.preprocessing import StandardScaler\n",
    "import pandas as pd\n",
    "from datetime import datetime, timedelta\n",
    "import numpy as np\n",
    "import math\n",
    "import time\n"
   ]
  },
  {
   "cell_type": "markdown",
   "metadata": {},
   "source": [
    "# Prepare Data"
   ]
  },
  {
   "cell_type": "code",
   "execution_count": 10,
   "metadata": {},
   "outputs": [],
   "source": [
    "def prepare(df):\n",
    "    \n",
    "    y = df.label.tolist()\n",
    "    X = np.matrix(df.drop(labels = ['label'], axis = 1)).astype(np.float)\n",
    "    \n",
    "    return X, y"
   ]
  },
  {
   "cell_type": "markdown",
   "metadata": {},
   "source": [
    "# Logistic"
   ]
  },
  {
   "cell_type": "code",
   "execution_count": 11,
   "metadata": {},
   "outputs": [],
   "source": [
    "from sklearn.model_selection import train_test_split\n",
    "from sklearn.linear_model import LogisticRegression"
   ]
  },
  {
   "cell_type": "code",
   "execution_count": 12,
   "metadata": {},
   "outputs": [
    {
     "data": {
      "text/plain": [
       "\"\\n#drop different port numbers\\ndf_train = pd.read_csv('/scratch/by8jj/stratified samples/test of test/train/all_train.csv')\\ntemp1 = set(df_train.columns)\\n\\n#print(df_train.columns)\\n#for test in testPath:\\ndf_test = pd.read_csv('/scratch/by8jj/stratified samples/test of test/train/all_train.csv')\\ntemp2 = set(df_test.columns)\\n#print(df_test.columns)\\ndf_train = df_train.drop(list(temp1 - temp2), axis = 1)\\ndf_test = df_test.drop(list(temp2 - temp1), axis = 1)\\n\\n\\n\\nX, y = prepare(df_train)\\nclf = LogisticRegression().fit(X, y)\\n\\n\\nX_test, y_test = prepare(df_test)\\ny_pred = clf.predict_proba(X_test)\\npd.DataFrame(y_pred).to_csv('/scratch/by8jj/stratified samples/test of test/log/' + train[-12:-4] + '-' + test[-11:-4] +'.csv', index = False)\\n\""
      ]
     },
     "execution_count": 12,
     "metadata": {},
     "output_type": "execute_result"
    }
   ],
   "source": [
    "'''\n",
    "#drop different port numbers\n",
    "df_train = pd.read_csv('/scratch/by8jj/stratified samples/test of test/train/all_train.csv')\n",
    "temp1 = set(df_train.columns)\n",
    "\n",
    "#print(df_train.columns)\n",
    "#for test in testPath:\n",
    "df_test = pd.read_csv('/scratch/by8jj/stratified samples/test of test/train/all_train.csv')\n",
    "temp2 = set(df_test.columns)\n",
    "#print(df_test.columns)\n",
    "df_train = df_train.drop(list(temp1 - temp2), axis = 1)\n",
    "df_test = df_test.drop(list(temp2 - temp1), axis = 1)\n",
    "\n",
    "\n",
    "\n",
    "X, y = prepare(df_train)\n",
    "clf = LogisticRegression().fit(X, y)\n",
    "\n",
    "\n",
    "X_test, y_test = prepare(df_test)\n",
    "y_pred = clf.predict_proba(X_test)\n",
    "pd.DataFrame(y_pred).to_csv('/scratch/by8jj/stratified samples/test of test/log/' + train[-12:-4] + '-' + test[-11:-4] +'.csv', index = False)\n",
    "'''"
   ]
  },
  {
   "cell_type": "code",
   "execution_count": 13,
   "metadata": {
    "scrolled": true
   },
   "outputs": [
    {
     "data": {
      "text/plain": [
       "'\\ntemp = [1 if x[1]>0.7 else 0 for x in y_pred]\\ncm= confusion_matrix(y_test, temp)\\ntn, fp, fn, tp = cm.ravel()\\nprecision=tp/(tp+fp)\\nrecall=tp/(tp+fn)\\nfpr = fp/(fp+ tn)\\naccuracy = (tp + tn)/(tn + tp + fn + fp)\\nF1 = 2 * (precision * recall) / (precision + recall)\\nprint(\"precision:\", precision*100)\\nprint(\"recall:\", recall*100)\\nprint(\"false positive rate:\", fpr*100)\\nprint(\"accuracy\",  accuracy*100)\\nprint(\"F1-score\", F1)\\nprint(\\'\\n\\')\\n'"
      ]
     },
     "execution_count": 13,
     "metadata": {},
     "output_type": "execute_result"
    }
   ],
   "source": [
    "'''\n",
    "temp = [1 if x[1]>0.7 else 0 for x in y_pred]\n",
    "cm= confusion_matrix(y_test, temp)\n",
    "tn, fp, fn, tp = cm.ravel()\n",
    "precision=tp/(tp+fp)\n",
    "recall=tp/(tp+fn)\n",
    "fpr = fp/(fp+ tn)\n",
    "accuracy = (tp + tn)/(tn + tp + fn + fp)\n",
    "F1 = 2 * (precision * recall) / (precision + recall)\n",
    "print(\"precision:\", precision*100)\n",
    "print(\"recall:\", recall*100)\n",
    "print(\"false positive rate:\", fpr*100)\n",
    "print(\"accuracy\",  accuracy*100)\n",
    "print(\"F1-score\", F1)\n",
    "print('\\n')\n",
    "'''"
   ]
  },
  {
   "cell_type": "code",
   "execution_count": 14,
   "metadata": {},
   "outputs": [],
   "source": [
    "trainPath = ['/scratch/by8jj/stratified samples/test of test/train/train_11.csv',\n",
    "             '/scratch/by8jj/stratified samples/test of test/train/train_12.csv',\n",
    "             '/scratch/by8jj/stratified samples/test of test/train/train_13.csv',\n",
    "             '/scratch/by8jj/stratified samples/test of test/train/train_14.csv',\n",
    "             '/scratch/by8jj/stratified samples/test of test/train/train_15.csv',\n",
    "             '/scratch/by8jj/stratified samples/test of test/train/train_16.csv',\n",
    "             '/scratch/by8jj/stratified samples/test of test/train/train_17.csv',\n",
    "             '/scratch/by8jj/stratified samples/test of test/train/train_18.csv',\n",
    "             '/scratch/by8jj/stratified samples/test of test/train/train_19.csv',\n",
    "             '/scratch/by8jj/stratified samples/test of test/train/train_20.csv',\n",
    "             '/scratch/by8jj/stratified samples/test of test/train/train_21.csv',\n",
    "            ]"
   ]
  },
  {
   "cell_type": "code",
   "execution_count": 15,
   "metadata": {},
   "outputs": [],
   "source": [
    "testPath = ['/scratch/by8jj/stratified samples/test of test/test/test_12.csv',\n",
    "           '/scratch/by8jj/stratified samples/test of test/test/test_13.csv',\n",
    "           '/scratch/by8jj/stratified samples/test of test/test/test_14.csv',\n",
    "           '/scratch/by8jj/stratified samples/test of test/test/test_15.csv',\n",
    "           '/scratch/by8jj/stratified samples/test of test/test/test_16.csv',\n",
    "            '/scratch/by8jj/stratified samples/test of test/test/test_17.csv',\n",
    "           '/scratch/by8jj/stratified samples/test of test/test/test_18.csv',\n",
    "           '/scratch/by8jj/stratified samples/test of test/test/test_19.csv',\n",
    "           '/scratch/by8jj/stratified samples/test of test/test/test_20.csv',\n",
    "            '/scratch/by8jj/stratified samples/test of test/test/test_21.csv',\n",
    "           '/scratch/by8jj/stratified samples/test of test/test/test_22.csv',\n",
    "            ]"
   ]
  },
  {
   "cell_type": "code",
   "execution_count": null,
   "metadata": {},
   "outputs": [
    {
     "name": "stdout",
     "output_type": "stream",
     "text": [
      "precision: 63.81047358937455\n",
      "recall: 93.18494000827472\n",
      "false positive rate: 2.642438384615703\n",
      "accuracy 97.15886613130748\n",
      "F1-score 0.7574966703886564\n",
      "\n",
      "\n",
      "precision: 79.57286398454583\n",
      "recall: 92.17715617715618\n",
      "false positive rate: 1.1831372445419663\n",
      "accuracy 98.50068671967037\n",
      "F1-score 0.8541251178965102\n",
      "\n",
      "\n",
      "precision: 82.71929744149166\n",
      "recall: 89.67552795031057\n",
      "false positive rate: 0.9366951867353109\n",
      "accuracy 98.61626803134314\n",
      "F1-score 0.8605706874189365\n",
      "\n",
      "\n",
      "precision: 81.74558391752183\n",
      "recall: 85.62984632030295\n",
      "false positive rate: 0.9560857737221926\n",
      "accuracy 98.4051518304426\n",
      "F1-score 0.8364264430298612\n",
      "\n",
      "\n",
      "precision: 76.9159716125256\n",
      "recall: 89.51031833033556\n",
      "false positive rate: 1.3431872400138996\n",
      "accuracy 98.22126695135586\n",
      "F1-score 0.8273660496893799\n",
      "\n",
      "\n",
      "precision: 77.31093824836083\n",
      "recall: 88.45616024187453\n",
      "false positive rate: 1.297994523819872\n",
      "accuracy 98.21410896211898\n",
      "F1-score 0.8250887907710477\n",
      "\n",
      "\n",
      "precision: 76.49067532002\n",
      "recall: 77.67846878951603\n",
      "false positive rate: 1.1937127234199902\n",
      "accuracy 97.80020618932924\n",
      "F1-score 0.7707999638778119\n",
      "\n",
      "\n"
     ]
    }
   ],
   "source": [
    "for train, test in zip(trainPath, testPath):\n",
    "    \n",
    "    #drop different port numbers\n",
    "    df_train = pd.read_csv(train)\n",
    "    temp1 = set(df_train.columns)\n",
    "    \n",
    "    #print(df_train.columns)\n",
    "    #for test in testPath:\n",
    "    df_test = pd.read_csv(test)\n",
    "    temp2 = set(df_test.columns)\n",
    "    #print(df_test.columns)\n",
    "    df_train = df_train.drop(list(temp1 - temp2), axis = 1)\n",
    "    df_test = df_test.drop(list(temp2 - temp1), axis = 1)\n",
    "    \n",
    "    \n",
    "    \n",
    "    X, y = prepare(df_train)\n",
    "    clf = LogisticRegression().fit(X, y)\n",
    "    \n",
    "    \n",
    "    X_test, y_test = prepare(df_test)\n",
    "    y_pred = clf.predict_proba(X_test)\n",
    "    pd.DataFrame(y_pred).to_csv('/scratch/by8jj/stratified samples/test of test/log/' + train[-12:-4] + '-' + test[-11:-4] +'.csv', index = False)\n",
    "\n",
    "    \n",
    "    temp = [1 if x[1]>0.9 else 0 for x in y_pred]\n",
    "    cm= confusion_matrix(y_test, temp)\n",
    "    tn, fp, fn, tp = cm.ravel()\n",
    "    precision=tp/(tp+fp)\n",
    "    recall=tp/(tp+fn)\n",
    "    fpr = fp/(fp+ tn)\n",
    "    accuracy = (tp + tn)/(tn + tp + fn + fp)\n",
    "    F1 = 2 * (precision * recall) / (precision + recall)\n",
    "    print(\"precision:\", precision*100)\n",
    "    print(\"recall:\", recall*100)\n",
    "    print(\"false positive rate:\", fpr*100)\n",
    "    print(\"accuracy\",  accuracy*100)\n",
    "    print(\"F1-score\", F1)\n",
    "    print('\\n')"
   ]
  }
 ],
 "metadata": {
  "kernelspec": {
   "display_name": "Python 3",
   "language": "python",
   "name": "python3"
  },
  "language_info": {
   "codemirror_mode": {
    "name": "ipython",
    "version": 3
   },
   "file_extension": ".py",
   "mimetype": "text/x-python",
   "name": "python",
   "nbconvert_exporter": "python",
   "pygments_lexer": "ipython3",
   "version": "3.6.6"
  }
 },
 "nbformat": 4,
 "nbformat_minor": 2
}
