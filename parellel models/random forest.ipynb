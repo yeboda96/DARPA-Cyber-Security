{
 "cells": [
  {
   "cell_type": "code",
   "execution_count": 1,
   "metadata": {},
   "outputs": [],
   "source": [
    "import pandas as pd\n",
    "import numpy as np\n",
    "import sklearn\n",
    "from sklearn.preprocessing import StandardScaler\n",
    "from sklearn.model_selection import train_test_split\n",
    "from sklearn.linear_model import LogisticRegression\n",
    "from sklearn.metrics import confusion_matrix\n",
    "import pandas as pd\n",
    "import numpy as np\n",
    "import sklearn\n",
    "from sklearn.preprocessing import StandardScaler\n",
    "import pandas as pd\n",
    "from datetime import datetime, timedelta\n",
    "import numpy as np\n",
    "import math\n",
    "import gensim\n",
    "from gensim.models import Word2Vec \n",
    "import time"
   ]
  },
  {
   "cell_type": "markdown",
   "metadata": {},
   "source": [
    "# Prepare"
   ]
  },
  {
   "cell_type": "code",
   "execution_count": 2,
   "metadata": {},
   "outputs": [],
   "source": [
    "def prepare(df):\n",
    "    \n",
    "    y = df.label.tolist()\n",
    "    X = np.matrix(df.drop(labels = ['label'], axis = 1)).astype(np.float)\n",
    "    \n",
    "    return X, y"
   ]
  },
  {
   "cell_type": "markdown",
   "metadata": {},
   "source": [
    "# Random Forest"
   ]
  },
  {
   "cell_type": "code",
   "execution_count": 3,
   "metadata": {},
   "outputs": [],
   "source": [
    "from sklearn.ensemble import RandomForestClassifier"
   ]
  },
  {
   "cell_type": "code",
   "execution_count": 4,
   "metadata": {},
   "outputs": [],
   "source": [
    "trainPath = ['/scratch/by8jj/stratified samples/test of test/train/train_11.csv',\n",
    "             '/scratch/by8jj/stratified samples/test of test/train/train_12.csv',\n",
    "             '/scratch/by8jj/stratified samples/test of test/train/train_13.csv',\n",
    "             '/scratch/by8jj/stratified samples/test of test/train/train_14.csv',\n",
    "             '/scratch/by8jj/stratified samples/test of test/train/train_15.csv',\n",
    "             '/scratch/by8jj/stratified samples/test of test/train/train_16.csv',\n",
    "             '/scratch/by8jj/stratified samples/test of test/train/train_17.csv',\n",
    "             '/scratch/by8jj/stratified samples/test of test/train/train_18.csv',\n",
    "             '/scratch/by8jj/stratified samples/test of test/train/train_19.csv',\n",
    "             '/scratch/by8jj/stratified samples/test of test/train/train_20.csv',\n",
    "             '/scratch/by8jj/stratified samples/test of test/train/train_21.csv',\n",
    "            ]"
   ]
  },
  {
   "cell_type": "code",
   "execution_count": 5,
   "metadata": {},
   "outputs": [],
   "source": [
    "testPath = ['/scratch/by8jj/stratified samples/test of test/test/test_12.csv',\n",
    "           '/scratch/by8jj/stratified samples/test of test/test/test_13.csv',\n",
    "           '/scratch/by8jj/stratified samples/test of test/test/test_14.csv',\n",
    "           '/scratch/by8jj/stratified samples/test of test/test/test_15.csv',\n",
    "           '/scratch/by8jj/stratified samples/test of test/test/test_16.csv',\n",
    "            '/scratch/by8jj/stratified samples/test of test/test/test_17.csv',\n",
    "           '/scratch/by8jj/stratified samples/test of test/test/test_18.csv',\n",
    "           '/scratch/by8jj/stratified samples/test of test/test/test_19.csv',\n",
    "           '/scratch/by8jj/stratified samples/test of test/test/test_20.csv',\n",
    "            '/scratch/by8jj/stratified samples/test of test/test/test_21.csv',\n",
    "           '/scratch/by8jj/stratified samples/test of test/test/test_22.csv',\n",
    "            ]"
   ]
  },
  {
   "cell_type": "code",
   "execution_count": null,
   "metadata": {},
   "outputs": [
    {
     "name": "stdout",
     "output_type": "stream",
     "text": [
      "precision: 37.99301594242976\n",
      "recall: 97.77079023582954\n",
      "false positive rate: 7.97836996950778\n",
      "accuracy 92.29539848533804\n",
      "F1-score 0.5472161243411973\n",
      "\n",
      "\n",
      "precision: 59.71377632149568\n",
      "recall: 96.28904428904428\n",
      "false positive rate: 3.2480913005574195\n",
      "accuracy 96.72986756966357\n",
      "F1-score 0.7371382684471938\n",
      "\n",
      "\n",
      "precision: 78.14787762081043\n",
      "recall: 93.56621118012423\n",
      "false positive rate: 1.3081732630194967\n",
      "accuracy 98.44774992120678\n",
      "F1-score 0.8516483267979177\n",
      "\n",
      "\n",
      "precision: 63.44924799167933\n",
      "recall: 92.89506902562664\n",
      "false positive rate: 2.675657656475331\n",
      "accuracy 97.11342547205952\n",
      "F1-score 0.7539925191087982\n",
      "\n",
      "\n"
     ]
    }
   ],
   "source": [
    "for train, test in zip(trainPath, testPath):\n",
    "    \n",
    "    #drop different port numbers\n",
    "    df_train = pd.read_csv(train)\n",
    "    temp1 = set(df_train.columns)\n",
    "    \n",
    "    #for test in testPath:\n",
    "    df_test = pd.read_csv(test)\n",
    "    temp2 = set(df_test.columns)\n",
    "    \n",
    "    df_train = df_train.drop(list(temp1 - temp2), axis = 1)\n",
    "    df_test = df_test.drop(list(temp2 - temp1), axis = 1)\n",
    "    \n",
    "    \n",
    "    X, y = prepare(df_train)\n",
    "    X_test, y_test = prepare(df_test)\n",
    "    \n",
    "    clf = RandomForestClassifier(n_estimators=200, min_samples_leaf=25, max_features=0.5, n_jobs=-1)\n",
    "    clf.fit(X, y)\n",
    "    \n",
    "    y_pred = clf.predict_proba(X_test)\n",
    "    \n",
    "    temp = [1 if x[1]>0.8 else 0 for x in y_pred]\n",
    "    cm= confusion_matrix(y_test, temp)\n",
    "    tn, fp, fn, tp = cm.ravel()\n",
    "    precision=tp/(tp+fp)\n",
    "    recall=tp/(tp+fn)\n",
    "    fpr = fp/(fp+ tn)\n",
    "    accuracy = (tp + tn)/(tn + tp + fn + fp)\n",
    "    F1 = 2 * (precision * recall) / (precision + recall)\n",
    "    print(\"precision:\", precision*100)\n",
    "    print(\"recall:\", recall*100)\n",
    "    print(\"false positive rate:\", fpr*100)\n",
    "    print(\"accuracy\",  accuracy*100)\n",
    "    print(\"F1-score\", F1)\n",
    "    print('\\n')\n",
    "    \n",
    "    \n",
    "    \n",
    "    pd.DataFrame(y_pred).to_csv('/scratch/by8jj/stratified samples/test of test/rf/' + train[-12:-4] + '-' + test[-11:-4] + '.csv', index = False)\n",
    "    \n",
    "    "
   ]
  }
 ],
 "metadata": {
  "kernelspec": {
   "display_name": "Python 3",
   "language": "python",
   "name": "python3"
  },
  "language_info": {
   "codemirror_mode": {
    "name": "ipython",
    "version": 3
   },
   "file_extension": ".py",
   "mimetype": "text/x-python",
   "name": "python",
   "nbconvert_exporter": "python",
   "pygments_lexer": "ipython3",
   "version": "3.6.6"
  }
 },
 "nbformat": 4,
 "nbformat_minor": 2
}
